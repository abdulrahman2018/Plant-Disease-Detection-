{
 "cells": [
  {
   "cell_type": "code",
   "execution_count": 1,
   "id": "3a3be1cf-0f68-4c5c-a10b-421b2b819f23",
   "metadata": {},
   "outputs": [],
   "source": [
    "# Cell 1: Imports\n",
    "import cv2\n",
    "import os\n",
    "import numpy as np\n",
    "from sklearn.preprocessing import LabelEncoder\n",
    "from sklearn.model_selection import train_test_split\n",
    "import tensorflow as tf\n",
    "from tensorflow.keras import layers\n",
    "from tensorflow.keras.preprocessing.image import ImageDataGenerator\n"
   ]
  },
  {
   "cell_type": "code",
   "execution_count": 2,
   "id": "7c44ba69-9d44-4d22-b414-b5541e0f94ff",
   "metadata": {},
   "outputs": [],
   "source": [
    "# Cell 2: Function to read images and labels\n",
    "def read_images_and_label(folder_path):\n",
    "    image_data = []\n",
    "    labels = []\n",
    "    for label in os.listdir(folder_path):\n",
    "        label_path = os.path.join(folder_path, label)\n",
    "        if os.path.isdir(label_path):\n",
    "            for image_file in os.listdir(label_path):\n",
    "                image_path = os.path.join(label_path, image_file)\n",
    "                img = cv2.imread(image_path)\n",
    "                image_data.append(img)\n",
    "                labels.append(label)\n",
    "    return np.array(image_data), np.array(labels)\n"
   ]
  },
  {
   "cell_type": "code",
   "execution_count": 4,
   "id": "c470cf6e-a57e-4d03-9fe1-d5502249b68b",
   "metadata": {},
   "outputs": [],
   "source": [
    "# Cell 3: Read images and labels\n",
    "folder_path = \"/Users/abdulrahmankhaled/Desktop/datascience/Plant Disease Detection /plantvillage dataset/grayscale\"\n",
    "images, labels = read_images_and_label(folder_path)"
   ]
  },
  {
   "cell_type": "code",
   "execution_count": 5,
   "id": "e1e0f61d-64ea-4d65-8dc1-78635a7cf3df",
   "metadata": {},
   "outputs": [],
   "source": [
    "# Cell 4: Encoding labels\n",
    "label_encoder = LabelEncoder()\n",
    "encoded_labels = label_encoder.fit_transform(labels)"
   ]
  },
  {
   "cell_type": "code",
   "execution_count": 6,
   "id": "815c46e5-2d3d-4d43-adb2-f8901bf58e06",
   "metadata": {},
   "outputs": [],
   "source": [
    "# Cell 5: Train-test split\n",
    "X_train, X_test, y_train, y_test = train_test_split(images, encoded_labels, test_size=0.2, random_state=42)"
   ]
  },
  {
   "cell_type": "code",
   "execution_count": 7,
   "id": "81ece8dd-bf20-4753-9d3c-c81f25ebfb87",
   "metadata": {},
   "outputs": [],
   "source": [
    "# Cell 6: Define the model\n",
    "model = tf.keras.Sequential([\n",
    "    layers.Conv2D(32, (3, 3), activation='relu', input_shape=(256, 256, 3)),\n",
    "    layers.MaxPooling2D((2, 2)),\n",
    "    layers.Conv2D(64, (3, 3), activation='relu'),\n",
    "    layers.MaxPooling2D((2, 2)),\n",
    "    layers.Flatten(),\n",
    "    layers.Dropout(0.5),  # Dropout layer added for regularization\n",
    "    layers.Dense(64, activation='relu'),\n",
    "    layers.Dense(len(label_encoder.classes_), activation='softmax')\n",
    "])"
   ]
  },
  {
   "cell_type": "code",
   "execution_count": 8,
   "id": "989e2ad7-ec81-4991-91de-45046b5768e2",
   "metadata": {},
   "outputs": [],
   "source": [
    "# Cell 7: Compile the model\n",
    "model.compile(optimizer='adam',\n",
    "              loss='sparse_categorical_crossentropy',\n",
    "              metrics=['accuracy'])"
   ]
  },
  {
   "cell_type": "code",
   "execution_count": 9,
   "id": "5e9c9877-6a59-40a0-ae6a-d81669d691d2",
   "metadata": {},
   "outputs": [
    {
     "name": "stdout",
     "output_type": "stream",
     "text": [
      "Epoch 1/5\n",
      "1358/1358 [==============================] - 516s 379ms/step - loss: 9.8881 - accuracy: 0.2547 - val_loss: 2.8029 - val_accuracy: 0.2563\n",
      "Epoch 2/5\n",
      "1358/1358 [==============================] - 492s 362ms/step - loss: 2.2065 - accuracy: 0.3998 - val_loss: 2.1578 - val_accuracy: 0.4103\n",
      "Epoch 3/5\n",
      "1358/1358 [==============================] - 482s 355ms/step - loss: 1.7702 - accuracy: 0.5027 - val_loss: 1.6408 - val_accuracy: 0.5380\n",
      "Epoch 4/5\n",
      "1358/1358 [==============================] - 500s 368ms/step - loss: 1.1663 - accuracy: 0.6589 - val_loss: 1.4474 - val_accuracy: 0.6019\n",
      "Epoch 5/5\n",
      "1358/1358 [==============================] - 543s 400ms/step - loss: 1.7108 - accuracy: 0.5460 - val_loss: 3.7086 - val_accuracy: 0.1599\n"
     ]
    },
    {
     "data": {
      "text/plain": [
       "<keras.src.callbacks.History at 0x2b3940ad0>"
      ]
     },
     "execution_count": 9,
     "metadata": {},
     "output_type": "execute_result"
    }
   ],
   "source": [
    "# Cell 8: Train the model\n",
    "model.fit(X_train, y_train, epochs=5, validation_data=(X_test, y_test))"
   ]
  },
  {
   "cell_type": "code",
   "execution_count": 4,
   "id": "48989c0b-4e48-4c82-8cc3-de491d6c579e",
   "metadata": {},
   "outputs": [
    {
     "ename": "NameError",
     "evalue": "name 'model' is not defined",
     "output_type": "error",
     "traceback": [
      "\u001b[0;31m---------------------------------------------------------------------------\u001b[0m",
      "\u001b[0;31mNameError\u001b[0m                                 Traceback (most recent call last)",
      "Cell \u001b[0;32mIn[4], line 2\u001b[0m\n\u001b[1;32m      1\u001b[0m \u001b[38;5;66;03m# Cell 9: Evaluate the model\u001b[39;00m\n\u001b[0;32m----> 2\u001b[0m test_loss, test_acc \u001b[38;5;241m=\u001b[39m model\u001b[38;5;241m.\u001b[39mevaluate(X_test, y_test, verbose\u001b[38;5;241m=\u001b[39m\u001b[38;5;241m2\u001b[39m)\n\u001b[1;32m      3\u001b[0m \u001b[38;5;28mprint\u001b[39m(\u001b[38;5;124m'\u001b[39m\u001b[38;5;124mTest accuracy:\u001b[39m\u001b[38;5;124m'\u001b[39m, test_acc)\n",
      "\u001b[0;31mNameError\u001b[0m: name 'model' is not defined"
     ]
    }
   ],
   "source": [
    "# Cell 9: Evaluate the model\n",
    "test_loss, test_acc = model.evaluate(X_test, y_test, verbose=2)\n",
    "print('Test accuracy:', test_acc)\n"
   ]
  },
  {
   "cell_type": "code",
   "execution_count": null,
   "id": "210c4d6d-9fc5-4a73-8377-90c5787a5330",
   "metadata": {},
   "outputs": [],
   "source": [
    "# Cell 10: Save the model in native Keras format\n",
    "model.save('plantvillagedatasetgrayscale.keras')\n"
   ]
  },
  {
   "cell_type": "code",
   "execution_count": null,
   "id": "2f203a5d-49a3-4242-af0a-3fba872ff031",
   "metadata": {},
   "outputs": [],
   "source": []
  }
 ],
 "metadata": {
  "kernelspec": {
   "display_name": "Python 3 (ipykernel)",
   "language": "python",
   "name": "python3"
  },
  "language_info": {
   "codemirror_mode": {
    "name": "ipython",
    "version": 3
   },
   "file_extension": ".py",
   "mimetype": "text/x-python",
   "name": "python",
   "nbconvert_exporter": "python",
   "pygments_lexer": "ipython3",
   "version": "3.11.5"
  }
 },
 "nbformat": 4,
 "nbformat_minor": 5
}
