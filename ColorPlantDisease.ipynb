{
 "cells": [
  {
   "cell_type": "code",
   "execution_count": 1,
   "id": "d2547c7c-dab5-4411-9aae-ac0ad1912be2",
   "metadata": {},
   "outputs": [],
   "source": [
    "# Cell 1: Imports\n",
    "import cv2\n",
    "import os\n",
    "import numpy as np\n",
    "from sklearn.preprocessing import LabelEncoder\n",
    "from sklearn.model_selection import train_test_split\n",
    "import tensorflow as tf\n",
    "from tensorflow.keras import layers\n",
    "from tensorflow.keras.preprocessing.image import ImageDataGenerator\n"
   ]
  },
  {
   "cell_type": "code",
   "execution_count": 2,
   "id": "da46d287-80fe-4615-91ab-93db59d5a1cc",
   "metadata": {},
   "outputs": [],
   "source": [
    "# Cell 2: Function to read images and labels\n",
    "def read_images_and_label(folder_path):\n",
    "    image_data = []\n",
    "    labels = []\n",
    "    for label in os.listdir(folder_path):\n",
    "        label_path = os.path.join(folder_path, label)\n",
    "        if os.path.isdir(label_path):\n",
    "            for image_file in os.listdir(label_path):\n",
    "                image_path = os.path.join(label_path, image_file)\n",
    "                img = cv2.imread(image_path)\n",
    "                image_data.append(img)\n",
    "                labels.append(label)\n",
    "    return np.array(image_data), np.array(labels)\n"
   ]
  },
  {
   "cell_type": "code",
   "execution_count": 3,
   "id": "710539a9-23a5-4ec4-8e63-68a9a8343f20",
   "metadata": {},
   "outputs": [],
   "source": [
    "# Cell 3: Read images and labels\n",
    "folder_path = \"/Users/abdulrahmankhaled/Desktop/datascience/Plant Disease Detection /plantvillage dataset/color\"\n",
    "images, labels = read_images_and_label(folder_path)"
   ]
  },
  {
   "cell_type": "code",
   "execution_count": 4,
   "id": "7a7668d7-430b-4b50-8b63-56b6b8c034ca",
   "metadata": {},
   "outputs": [],
   "source": [
    "# Cell 4: Encoding labels\n",
    "label_encoder = LabelEncoder()\n",
    "encoded_labels = label_encoder.fit_transform(labels)"
   ]
  },
  {
   "cell_type": "code",
   "execution_count": 5,
   "id": "54ee39a8-52e9-4b80-b926-a2698d39788d",
   "metadata": {},
   "outputs": [],
   "source": [
    "# Cell 5: Train-test split\n",
    "X_train, X_test, y_train, y_test = train_test_split(images, encoded_labels, test_size=0.2, random_state=42)"
   ]
  },
  {
   "cell_type": "code",
   "execution_count": 6,
   "id": "53dc250a-8315-49c0-a114-9b93d5e3eaee",
   "metadata": {},
   "outputs": [],
   "source": [
    "# Cell 6: Define the model\n",
    "model = tf.keras.Sequential([\n",
    "    layers.Conv2D(32, (3, 3), activation='relu', input_shape=(256, 256, 3)),\n",
    "    layers.MaxPooling2D((2, 2)),\n",
    "    layers.Conv2D(64, (3, 3), activation='relu'),\n",
    "    layers.MaxPooling2D((2, 2)),\n",
    "    layers.Flatten(),\n",
    "    layers.Dropout(0.5),  # Dropout layer added for regularization\n",
    "    layers.Dense(64, activation='relu'),\n",
    "    layers.Dense(len(label_encoder.classes_), activation='softmax')\n",
    "])"
   ]
  },
  {
   "cell_type": "code",
   "execution_count": 7,
   "id": "17a94c8e-1e9e-4120-9524-46c11611606e",
   "metadata": {},
   "outputs": [],
   "source": [
    "# Cell 7: Compile the model\n",
    "model.compile(optimizer='adam',\n",
    "              loss='sparse_categorical_crossentropy',\n",
    "              metrics=['accuracy'])"
   ]
  },
  {
   "cell_type": "code",
   "execution_count": 8,
   "id": "45eaf475-f712-4f16-b902-9a82c1aa7fa8",
   "metadata": {},
   "outputs": [
    {
     "name": "stdout",
     "output_type": "stream",
     "text": [
      "Epoch 1/5\n",
      "1358/1358 [==============================] - 506s 372ms/step - loss: 9.3873 - accuracy: 0.2791 - val_loss: 2.3785 - val_accuracy: 0.3792\n",
      "Epoch 2/5\n",
      "1358/1358 [==============================] - 468s 344ms/step - loss: 2.0596 - accuracy: 0.4418 - val_loss: 1.8724 - val_accuracy: 0.4820\n",
      "Epoch 3/5\n",
      "1358/1358 [==============================] - 436s 321ms/step - loss: 1.4814 - accuracy: 0.5797 - val_loss: 1.4750 - val_accuracy: 0.5889\n",
      "Epoch 4/5\n",
      "1358/1358 [==============================] - 436s 321ms/step - loss: 1.0634 - accuracy: 0.6894 - val_loss: 1.4207 - val_accuracy: 0.6260\n",
      "Epoch 5/5\n",
      "1358/1358 [==============================] - 434s 319ms/step - loss: 1.2418 - accuracy: 0.6731 - val_loss: 1.8453 - val_accuracy: 0.5532\n"
     ]
    },
    {
     "data": {
      "text/plain": [
       "<keras.src.callbacks.History at 0x2a9c7a390>"
      ]
     },
     "execution_count": 8,
     "metadata": {},
     "output_type": "execute_result"
    }
   ],
   "source": [
    "# Cell 8: Train the model\n",
    "model.fit(X_train, y_train, epochs=5, validation_data=(X_test, y_test))"
   ]
  },
  {
   "cell_type": "code",
   "execution_count": 9,
   "id": "8ada6f73-8f9e-405c-bc1e-7a27cf63d224",
   "metadata": {},
   "outputs": [
    {
     "name": "stdout",
     "output_type": "stream",
     "text": [
      "340/340 - 26s - loss: 1.8453 - accuracy: 0.5532 - 26s/epoch - 76ms/step\n",
      "Test accuracy: 0.5531718730926514\n"
     ]
    }
   ],
   "source": [
    "# Cell 9: Evaluate the model\n",
    "test_loss, test_acc = model.evaluate(X_test, y_test, verbose=2)\n",
    "print('Test accuracy:', test_acc)\n"
   ]
  },
  {
   "cell_type": "code",
   "execution_count": 11,
   "id": "e12e6d10-0985-4b17-b1cd-fc22b350e095",
   "metadata": {},
   "outputs": [],
   "source": [
    "# Cell 10: Save the model in native Keras format\n",
    "model.save('PlantDisease1.keras')\n"
   ]
  },
  {
   "cell_type": "code",
   "execution_count": null,
   "id": "94386b1f-fd58-4f6d-8bc2-a5f8a9e503ce",
   "metadata": {},
   "outputs": [],
   "source": []
  }
 ],
 "metadata": {
  "kernelspec": {
   "display_name": "Python 3 (ipykernel)",
   "language": "python",
   "name": "python3"
  },
  "language_info": {
   "codemirror_mode": {
    "name": "ipython",
    "version": 3
   },
   "file_extension": ".py",
   "mimetype": "text/x-python",
   "name": "python",
   "nbconvert_exporter": "python",
   "pygments_lexer": "ipython3",
   "version": "3.11.5"
  }
 },
 "nbformat": 4,
 "nbformat_minor": 5
}
