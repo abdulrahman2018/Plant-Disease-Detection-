{
 "cells": [
  {
   "cell_type": "code",
   "execution_count": 1,
   "id": "6726d474-03b6-4d76-9c8d-a998e0406c92",
   "metadata": {},
   "outputs": [],
   "source": [
    "# Cell 1: Imports\n",
    "import cv2\n",
    "import os\n",
    "import numpy as np\n",
    "from sklearn.preprocessing import LabelEncoder\n",
    "from sklearn.model_selection import train_test_split\n",
    "import tensorflow as tf\n",
    "from tensorflow.keras import layers\n",
    "from tensorflow.keras.preprocessing.image import ImageDataGenerator"
   ]
  },
  {
   "cell_type": "code",
   "execution_count": 2,
   "id": "cff5562c-212f-47e8-8687-5569e85dfe73",
   "metadata": {},
   "outputs": [],
   "source": [
    "# Cell 2: Function to read images and labels\n",
    "def read_images_and_label(folder_path):\n",
    "    image_data = []\n",
    "    labels = []\n",
    "    for label in os.listdir(folder_path):\n",
    "        label_path = os.path.join(folder_path, label)\n",
    "        if os.path.isdir(label_path):\n",
    "            for image_file in os.listdir(label_path):\n",
    "                image_path = os.path.join(label_path, image_file)\n",
    "                img = cv2.imread(image_path)\n",
    "                image_data.append(img)\n",
    "                labels.append(label)\n",
    "    return np.array(image_data), np.array(labels)"
   ]
  },
  {
   "cell_type": "code",
   "execution_count": 4,
   "id": "53b1aa09-610a-4a10-9ce7-fdcf00dc2bd9",
   "metadata": {},
   "outputs": [],
   "source": [
    "def read_images_and_label(folder_path):\n",
    "    image_data = []\n",
    "    labels = []\n",
    "    for label in os.listdir(folder_path):\n",
    "        label_path = os.path.join(folder_path, label)\n",
    "        if os.path.isdir(label_path):\n",
    "            for image_file in os.listdir(label_path):\n",
    "                image_path = os.path.join(label_path, image_file)\n",
    "                try:\n",
    "                    img = cv2.imread(image_path)\n",
    "                    if img is not None:\n",
    "                        img = cv2.resize(img, (256, 256))  # Resize images to ensure consistent shape\n",
    "                        image_data.append(img)\n",
    "                        labels.append(label)\n",
    "                except Exception as e:\n",
    "                    print(f\"Error processing image: {image_path}, Error: {str(e)}\")\n",
    "    return np.array(image_data), np.array(labels)\n"
   ]
  },
  {
   "cell_type": "code",
   "execution_count": 6,
   "id": "91a2f673-e8cc-45b2-a7be-8b23607cfd9d",
   "metadata": {},
   "outputs": [],
   "source": [
    "# Cell 3: Read images and labels\n",
    "folder_path = \"/Users/abdulrahmankhaled/Desktop/datascience/Plant Disease Detection /plantvillage dataset/segmented\"\n",
    "images, labels = read_images_and_label(folder_path)"
   ]
  },
  {
   "cell_type": "code",
   "execution_count": 7,
   "id": "cbb8f15c-3d9c-4d3e-8b82-d4c5efdb949e",
   "metadata": {},
   "outputs": [],
   "source": [
    "# Cell 4: Encoding labels\n",
    "label_encoder = LabelEncoder()\n",
    "encoded_labels = label_encoder.fit_transform(labels)"
   ]
  },
  {
   "cell_type": "code",
   "execution_count": 8,
   "id": "be43c08d-704f-439f-8c5e-53651a3666fe",
   "metadata": {},
   "outputs": [],
   "source": [
    "# Cell 5: Train-test split\n",
    "X_train, X_test, y_train, y_test = train_test_split(images, encoded_labels, test_size=0.2, random_state=42)"
   ]
  },
  {
   "cell_type": "code",
   "execution_count": 9,
   "id": "b8497dd4-85e0-48a0-a1e1-a08e5812a4c6",
   "metadata": {},
   "outputs": [],
   "source": [
    "# Cell 6: Define the model\n",
    "model = tf.keras.Sequential([\n",
    "    layers.Conv2D(32, (3, 3), activation='relu', input_shape=(256, 256, 3)),\n",
    "    layers.MaxPooling2D((2, 2)),\n",
    "    layers.Conv2D(64, (3, 3), activation='relu'),\n",
    "    layers.MaxPooling2D((2, 2)),\n",
    "    layers.Flatten(),\n",
    "    layers.Dropout(0.5),  # Dropout layer added for regularization\n",
    "    layers.Dense(64, activation='relu'),\n",
    "    layers.Dense(len(label_encoder.classes_), activation='softmax')\n",
    "])"
   ]
  },
  {
   "cell_type": "code",
   "execution_count": 10,
   "id": "e46cefea-58c6-426b-beb6-2102fca80276",
   "metadata": {},
   "outputs": [],
   "source": [
    "# Cell 7: Compile the model\n",
    "model.compile(optimizer='adam',\n",
    "              loss='sparse_categorical_crossentropy',\n",
    "              metrics=['accuracy'])"
   ]
  },
  {
   "cell_type": "code",
   "execution_count": 11,
   "id": "4ff6048c-4503-4c48-b14f-3fa82da8ace7",
   "metadata": {},
   "outputs": [
    {
     "name": "stdout",
     "output_type": "stream",
     "text": [
      "Epoch 1/5\n",
      "1358/1358 [==============================] - 498s 366ms/step - loss: 3.2034 - accuracy: 0.4559 - val_loss: 1.2530 - val_accuracy: 0.6282\n",
      "Epoch 2/5\n",
      "1358/1358 [==============================] - 523s 385ms/step - loss: 0.8504 - accuracy: 0.7440 - val_loss: 1.1493 - val_accuracy: 0.6732\n",
      "Epoch 3/5\n",
      "1358/1358 [==============================] - 515s 379ms/step - loss: 0.4250 - accuracy: 0.8665 - val_loss: 1.2027 - val_accuracy: 0.6963\n",
      "Epoch 4/5\n",
      "1358/1358 [==============================] - 510s 376ms/step - loss: 0.3226 - accuracy: 0.8984 - val_loss: 1.4409 - val_accuracy: 0.6998\n",
      "Epoch 5/5\n",
      "1358/1358 [==============================] - 516s 380ms/step - loss: 0.2387 - accuracy: 0.9252 - val_loss: 1.4848 - val_accuracy: 0.6988\n"
     ]
    },
    {
     "data": {
      "text/plain": [
       "<keras.src.callbacks.History at 0x2ce9bba10>"
      ]
     },
     "execution_count": 11,
     "metadata": {},
     "output_type": "execute_result"
    }
   ],
   "source": [
    "# Cell 8: Train the model\n",
    "model.fit(X_train, y_train, epochs=5, validation_data=(X_test, y_test))"
   ]
  },
  {
   "cell_type": "code",
   "execution_count": 12,
   "id": "64cf52ef-72eb-4447-9335-d80159467ae3",
   "metadata": {},
   "outputs": [
    {
     "name": "stdout",
     "output_type": "stream",
     "text": [
      "340/340 - 29s - loss: 1.4848 - accuracy: 0.6988 - 29s/epoch - 86ms/step\n",
      "Test accuracy: 0.6987663507461548\n"
     ]
    }
   ],
   "source": [
    "# Cell 9: Evaluate the model\n",
    "test_loss, test_acc = model.evaluate(X_test, y_test, verbose=2)\n",
    "print('Test accuracy:', test_acc)\n"
   ]
  },
  {
   "cell_type": "code",
   "execution_count": 13,
   "id": "ebf07dea-d3f7-4618-8af5-a0a279e1b16a",
   "metadata": {},
   "outputs": [],
   "source": [
    "# Cell 10: Save the model in native Keras format\n",
    "model.save('segmented.keras')\n"
   ]
  },
  {
   "cell_type": "code",
   "execution_count": null,
   "id": "05140cf5-a898-4fb5-8140-97025e08289e",
   "metadata": {},
   "outputs": [],
   "source": []
  }
 ],
 "metadata": {
  "kernelspec": {
   "display_name": "Python 3 (ipykernel)",
   "language": "python",
   "name": "python3"
  },
  "language_info": {
   "codemirror_mode": {
    "name": "ipython",
    "version": 3
   },
   "file_extension": ".py",
   "mimetype": "text/x-python",
   "name": "python",
   "nbconvert_exporter": "python",
   "pygments_lexer": "ipython3",
   "version": "3.11.5"
  }
 },
 "nbformat": 4,
 "nbformat_minor": 5
}
